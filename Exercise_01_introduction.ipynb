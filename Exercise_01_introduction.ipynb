{
  "nbformat": 4,
  "nbformat_minor": 0,
  "metadata": {
    "kernelspec": {
      "display_name": "Python 3",
      "language": "python",
      "name": "python3"
    },
    "language_info": {
      "codemirror_mode": {
        "name": "ipython",
        "version": 3
      },
      "file_extension": ".py",
      "mimetype": "text/x-python",
      "name": "python",
      "nbconvert_exporter": "python",
      "pygments_lexer": "ipython3",
      "version": "3.8.5"
    },
    "colab": {
      "name": "Exercise_01_introduction.ipynb",
      "provenance": [],
      "include_colab_link": true
    }
  },
  "cells": [
    {
      "cell_type": "markdown",
      "metadata": {
        "id": "view-in-github",
        "colab_type": "text"
      },
      "source": [
        "<a href=\"https://colab.research.google.com/github/HoschangNoori/my-first-blog/blob/master/Exercise_01_introduction.ipynb\" target=\"_parent\"><img src=\"https://colab.research.google.com/assets/colab-badge.svg\" alt=\"Open In Colab\"/></a>"
      ]
    },
    {
      "cell_type": "code",
      "metadata": {
        "colab": {
          "base_uri": "https://localhost:8080/",
          "height": 171
        },
        "id": "FuwrD693OJvY",
        "outputId": "77df643d-116e-425a-de08-30755e8a1ddb"
      },
      "source": [
        "\n",
        "%matplotlib inline\n",
        "%reload_ext autoreload\n",
        "%autoreload 2\n",
        "\n",
        "import numpy as np\n",
        "import pandas as pd\n",
        "from numpy import convolve\n",
        "import matplotlib.pyplot as plt\n",
        "import pandas as pd\n",
        "!pip install cartopy\n",
        "import cartopy.crs as ccrs\n",
        "import cartopy.io.shapereader as shpreader\n",
        "\n",
        "\"\"\"\n",
        "1. I strongly recommend installation using conda as it will bring in all of the executable dependencies that cartopy requires. \n",
        "With conda installed, installing the latest version of cartopy would look like:\n",
        "\n",
        ">>conda install --channel conda-forge cartopy\n",
        "\n",
        "2. Python 3.6 is recommended for cartopy. A higher version could lead to errors.\n",
        "\"\"\""
      ],
      "execution_count": 1,
      "outputs": [
        {
          "output_type": "stream",
          "text": [
            "Requirement already satisfied: cartopy in /usr/local/lib/python3.7/dist-packages (0.18.0)\n",
            "Requirement already satisfied: numpy>=1.10 in /usr/local/lib/python3.7/dist-packages (from cartopy) (1.19.5)\n",
            "Requirement already satisfied: six>=1.3.0 in /usr/local/lib/python3.7/dist-packages (from cartopy) (1.15.0)\n",
            "Requirement already satisfied: pyshp>=1.1.4 in /usr/local/lib/python3.7/dist-packages (from cartopy) (2.1.3)\n",
            "Requirement already satisfied: shapely>=1.5.6 in /usr/local/lib/python3.7/dist-packages (from cartopy) (1.7.1)\n",
            "Requirement already satisfied: setuptools>=0.7.2 in /usr/local/lib/python3.7/dist-packages (from cartopy) (54.2.0)\n"
          ],
          "name": "stdout"
        },
        {
          "output_type": "execute_result",
          "data": {
            "application/vnd.google.colaboratory.intrinsic+json": {
              "type": "string"
            },
            "text/plain": [
              "'\\n1. I strongly recommend installation using conda as it will bring in all of the executable dependencies that cartopy requires. \\nWith conda installed, installing the latest version of cartopy would look like:\\n\\n>>conda install --channel conda-forge cartopy\\n\\n2. Python 3.6 is recommended for cartopy. A higher version could lead to errors.\\n'"
            ]
          },
          "metadata": {
            "tags": []
          },
          "execution_count": 1
        }
      ]
    },
    {
      "cell_type": "markdown",
      "metadata": {
        "id": "EnElWm8POJvj"
      },
      "source": [
        "# Temporal and Spatial DataMining\n",
        "\n",
        "The following task covers the basics for creating browser-based scripts (Notebooks) based on Python code. Using Python is effectively for interactive scientific and data-intensive computing. This Notebook will start by stepping through some of the Python features that are useful to the practice of data science, focusing especially on the syntax it offers beyond the standard features of Python"
      ]
    },
    {
      "cell_type": "markdown",
      "metadata": {
        "id": "vutQJ_0UOJvk"
      },
      "source": [
        "## Exercise 01\n",
        "\n",
        "### Vectors and matrices"
      ]
    },
    {
      "cell_type": "markdown",
      "metadata": {
        "id": "BYGAjm26OJvl"
      },
      "source": [
        "To create vectors with 2 dimensions in numpy we use np.arrays. For example, to create vectors a and b:\n",
        "\n",
        "x$=\\begin{pmatrix}-2.0 \\\\ 4.0\\end{pmatrix}$ \n",
        "\n",
        "y$=\\begin{pmatrix}5.0 \\\\ 1.0\\end{pmatrix}$\n",
        "\n",
        "- create the vectors **x** and **y**"
      ]
    },
    {
      "cell_type": "code",
      "metadata": {
        "id": "M9JXnDK_OJvl"
      },
      "source": [
        "x= np.array([-2, 4])\n",
        "y= np.array([5, 1])"
      ],
      "execution_count": 2,
      "outputs": []
    },
    {
      "cell_type": "markdown",
      "metadata": {
        "id": "qeDJTo7AOJvm"
      },
      "source": [
        "The contents of these arrays can be displayed using the *print()* command:\n",
        "\n",
        "- print the vectors using *print()*"
      ]
    },
    {
      "cell_type": "code",
      "metadata": {
        "colab": {
          "base_uri": "https://localhost:8080/"
        },
        "id": "Wr3jbqLKOJvm",
        "outputId": "60987c1b-0b35-492e-cc19-87c12b4d44a6"
      },
      "source": [
        "print(x)\n",
        "print(y)"
      ],
      "execution_count": 3,
      "outputs": [
        {
          "output_type": "stream",
          "text": [
            "[-2  4]\n",
            "[5 1]\n"
          ],
          "name": "stdout"
        }
      ]
    },
    {
      "cell_type": "markdown",
      "metadata": {
        "id": "BJ25LpaROJvn"
      },
      "source": [
        "A certain value can be accessed via the **index** within the square brackets. Note that the first entry with the index 0 is selected.\n",
        "\n",
        "- print the first entry of the vector **x** and the last entry of the vector **y**"
      ]
    },
    {
      "cell_type": "code",
      "metadata": {
        "colab": {
          "base_uri": "https://localhost:8080/"
        },
        "id": "PsvWVVKNOJvn",
        "outputId": "1ede2150-5497-4633-9e19-3a4c35f1db39"
      },
      "source": [
        "print(x[0])\n",
        "print(y[1])"
      ],
      "execution_count": 4,
      "outputs": [
        {
          "output_type": "stream",
          "text": [
            "-2\n",
            "1\n"
          ],
          "name": "stdout"
        }
      ]
    },
    {
      "cell_type": "markdown",
      "metadata": {
        "id": "Pc1NV6xBOJvo"
      },
      "source": [
        "- Perform the following operations with vectors **x** and **y**:\n",
        "\n",
        "    - $\\mathbf{x} \\cdot \\mathbf{y}$ (dot or scalar product)\n",
        "\n",
        "    - $\\mathbf{x} \\otimes \\mathbf{y}$ (outer product)\n",
        "\n",
        "    - $\\mathbf{x} \\odot \\mathbf{y}$ (elementwise multiplication $c_i = a_i \\cdot b_i$) \n",
        "\n",
        "**Reference:** [linalg](https://docs.scipy.org/doc/numpy-1.13.0/reference/routines.linalg.html)"
      ]
    },
    {
      "cell_type": "code",
      "metadata": {
        "colab": {
          "base_uri": "https://localhost:8080/"
        },
        "id": "z0037SDuOJvo",
        "outputId": "b2c576f2-dcca-4d47-b407-d0e18b1dede3"
      },
      "source": [
        "print(np.dot(x, y))\n",
        "print(np.outer(x, y))\n",
        "print(x*y)"
      ],
      "execution_count": 5,
      "outputs": [
        {
          "output_type": "stream",
          "text": [
            "-6\n",
            "[[-10  -2]\n",
            " [ 20   4]]\n",
            "[-10   4]\n"
          ],
          "name": "stdout"
        }
      ]
    },
    {
      "cell_type": "markdown",
      "metadata": {
        "id": "-D4vgJe4OJvp"
      },
      "source": [
        "The second important structure in linear algebra are for sure *matrices*. These can be created using numpy arrays as well, by nesting *lists* (a list is defined by using brackets '[' and ']'):\n",
        "\n",
        "- Create 2x2 matrices by nesting *lists*"
      ]
    },
    {
      "cell_type": "code",
      "metadata": {
        "colab": {
          "base_uri": "https://localhost:8080/"
        },
        "id": "7yGlYFNhOJvp",
        "outputId": "56590440-d461-41d9-8264-77fe70208cd4"
      },
      "source": [
        "np.array([[1, 0], [0, 1]])"
      ],
      "execution_count": 6,
      "outputs": [
        {
          "output_type": "execute_result",
          "data": {
            "text/plain": [
              "array([[1, 0],\n",
              "       [0, 1]])"
            ]
          },
          "metadata": {
            "tags": []
          },
          "execution_count": 6
        }
      ]
    },
    {
      "cell_type": "markdown",
      "metadata": {
        "id": "xoIGN1NjOJvp"
      },
      "source": [
        "Additionally numpy provides its own type for matrices called **matrix**. You can either convert your existing arrays to a matrix or create new ones from lists:\n",
        "\n",
        "**Reference:** [matrix](https://docs.scipy.org/doc/numpy/reference/generated/numpy.matrix.html)"
      ]
    },
    {
      "cell_type": "code",
      "metadata": {
        "colab": {
          "base_uri": "https://localhost:8080/"
        },
        "id": "h7AkWx9HOJvq",
        "outputId": "4f8b63ae-50b7-4d8d-f94b-32602cdfc0c7"
      },
      "source": [
        "# Convert\n",
        "v = np.asmatrix(x).T\n",
        "\n",
        "# Create new object\n",
        "u = np.asmatrix(y).T\n",
        "\n",
        "# Define new matrix (nesting lists)\n",
        "A = np.asmatrix([[1.0, -0.5], [-0.5, 1.0]])\n",
        "# Define new Matrix using existing arrays\n",
        "B = np.matrix([x, y])\n",
        "\n",
        "print(\"Vector x as np.array: \", x, \"Dimension: \", x.shape)\n",
        "print(\"Vector v as np.matrix: \", v, \"Dimension: \", v.shape)\n",
        "print(\"v:vector transposed: \\n\", v.T, '\\n')\n",
        "\n",
        "print('Matrix A = \\n', A, '\\n')\n",
        "print('Matrix B = \\n', B, '\\n')"
      ],
      "execution_count": 7,
      "outputs": [
        {
          "output_type": "stream",
          "text": [
            "Vector x as np.array:  [-2  4] Dimension:  (2,)\n",
            "Vector v as np.matrix:  [[-2]\n",
            " [ 4]] Dimension:  (2, 1)\n",
            "v:vector transposed: \n",
            " [[-2  4]] \n",
            "\n",
            "Matrix A = \n",
            " [[ 1.  -0.5]\n",
            " [-0.5  1. ]] \n",
            "\n",
            "Matrix B = \n",
            " [[-2  4]\n",
            " [ 5  1]] \n",
            "\n"
          ],
          "name": "stdout"
        }
      ]
    },
    {
      "cell_type": "markdown",
      "metadata": {
        "id": "ON0z27-_OJvq"
      },
      "source": [
        "Numpy makes it simple to perform common matrix operations\n",
        "\n",
        "- perform the following operations: \n",
        "    - $\\mathbf{A}= (\\mathbf{v}-\\mathbf{u})^\\text{T}\\cdot\\mathbf{M}\\cdot(\\mathbf{v}-\\mathbf{u})$"
      ]
    },
    {
      "cell_type": "code",
      "metadata": {
        "colab": {
          "base_uri": "https://localhost:8080/"
        },
        "id": "meQWOXuUOJvq",
        "outputId": "3371ffc5-151f-40cf-e55a-05548e33c9d8"
      },
      "source": [
        "# use the following Matrix M\n",
        "M = np.matrix([[1,2], [3,4]])\n",
        "\n",
        "A = (v-u).T@M@(v-u)\n",
        "print(A)"
      ],
      "execution_count": 8,
      "outputs": [
        {
          "output_type": "stream",
          "text": [
            "[[-20]]\n"
          ],
          "name": "stdout"
        }
      ]
    },
    {
      "cell_type": "markdown",
      "metadata": {
        "id": "TcKe2b55OJvr"
      },
      "source": [
        "### Functions:"
      ]
    },
    {
      "cell_type": "markdown",
      "metadata": {
        "id": "kfy6RelTOJvr"
      },
      "source": [
        "Now implement the previously defined equations as callable functions. A function is defined using the **def** keyword followed by the name of the function and a list of formal parameters:\n",
        "\n",
        "- create a function \"add\", which adds two parameters and returns their sum"
      ]
    },
    {
      "cell_type": "code",
      "metadata": {
        "id": "RcT_535UOJvr"
      },
      "source": [
        "def add(x, y):\n",
        "  return x + y"
      ],
      "execution_count": 9,
      "outputs": []
    },
    {
      "cell_type": "markdown",
      "metadata": {
        "id": "GrjiDqXWOJvr"
      },
      "source": [
        "To use the function, it is called with the desired parameters:\n",
        "\n",
        "- Try to call the function with the following input parameters\n",
        "    - add(\"hello\", \" World\")\n",
        "    - add(100, 20)\n",
        "    - add(x, y)\n",
        "    - add(\"one\", 2)"
      ]
    },
    {
      "cell_type": "code",
      "metadata": {
        "colab": {
          "base_uri": "https://localhost:8080/"
        },
        "id": "gA10VQoYOJvs",
        "outputId": "9f58f568-1e0c-40ce-d471-38241086db62"
      },
      "source": [
        "add(100, 20)\n",
        "add(x, y)\n"
      ],
      "execution_count": 10,
      "outputs": [
        {
          "output_type": "execute_result",
          "data": {
            "text/plain": [
              "array([3, 5])"
            ]
          },
          "metadata": {
            "tags": []
          },
          "execution_count": 10
        }
      ]
    },
    {
      "cell_type": "markdown",
      "metadata": {
        "id": "zcW6kzQDOJvs"
      },
      "source": [
        "Anonymous functions can also be created using *lambda*:"
      ]
    },
    {
      "cell_type": "code",
      "metadata": {
        "colab": {
          "base_uri": "https://localhost:8080/"
        },
        "id": "Qy2lfDA2OJvs",
        "outputId": "419b075d-6b83-4ee2-eddb-d750a5f2e3a6"
      },
      "source": [
        "# also adds two parameters and returns the sum\n",
        "\n",
        "add2 = lambda a, b : a+b\n",
        "add2(3, 4)"
      ],
      "execution_count": 11,
      "outputs": [
        {
          "output_type": "execute_result",
          "data": {
            "text/plain": [
              "7"
            ]
          },
          "metadata": {
            "tags": []
          },
          "execution_count": 11
        }
      ]
    },
    {
      "cell_type": "markdown",
      "metadata": {
        "id": "rnQz2lgNOJvt"
      },
      "source": [
        "The euclidean distance of two vectors **u**, **v** is given by: $\\sqrt{\\sum_d^{D} (u_d - v_d)^2}$\n",
        "\n",
        "**Note:** To calculate the square root use **np.sqrt** on arrays you can rely on pythons syntactic sugar (**x\\*\\*n** =$y^n$) for exponentiation."
      ]
    },
    {
      "cell_type": "markdown",
      "metadata": {
        "id": "5jP_oRAYOJvt"
      },
      "source": [
        "Implement the function *euc_loop* using numpy arrays (e.g. **x** and **y**) using a [for loop](https://docs.python.org/3/tutorial/controlflow.html)"
      ]
    },
    {
      "cell_type": "code",
      "metadata": {
        "colab": {
          "base_uri": "https://localhost:8080/"
        },
        "id": "LhcbFKaJOJvu",
        "outputId": "378250e9-0910-417e-f13b-a9d3aa40c037"
      },
      "source": [
        "add2 = lambda a, b : a+b\n",
        "add2(3, 4)"
      ],
      "execution_count": 12,
      "outputs": [
        {
          "output_type": "execute_result",
          "data": {
            "text/plain": [
              "7"
            ]
          },
          "metadata": {
            "tags": []
          },
          "execution_count": 12
        }
      ]
    },
    {
      "cell_type": "markdown",
      "metadata": {
        "id": "kgXDa0N4OJvu"
      },
      "source": [
        "Implement the function *euc_sum* using numpy arrays (e.g. **a** and **b**) and **np.sum**. \n",
        "\n",
        "__Note__: You should not use any loops in your solution."
      ]
    },
    {
      "cell_type": "code",
      "metadata": {
        "colab": {
          "base_uri": "https://localhost:8080/"
        },
        "id": "q4Ma3060OJvu",
        "outputId": "e388a4be-a250-4e66-ea4c-c73730c08733"
      },
      "source": [
        "def euc_loop(x, y):\n",
        "  quadratic_differences= 0\n",
        "  for i, j in zip(x, y):\n",
        "    quadratic_differences+=(i-j)**2\n",
        "  return np.sqrt(quadratic_differences)\n",
        "euc_loop(x, y)"
      ],
      "execution_count": 13,
      "outputs": [
        {
          "output_type": "execute_result",
          "data": {
            "text/plain": [
              "7.615773105863909"
            ]
          },
          "metadata": {
            "tags": []
          },
          "execution_count": 13
        }
      ]
    },
    {
      "cell_type": "markdown",
      "metadata": {
        "id": "vCEvTTp-OJvv"
      },
      "source": [
        "Implement the function *euc* using numpy _matrices_ (e.g. __u__ and __v__)\n",
        "\n",
        "__Note__: Recall the definition of the Euclidean distance using the dot product."
      ]
    },
    {
      "cell_type": "code",
      "metadata": {
        "colab": {
          "base_uri": "https://localhost:8080/"
        },
        "id": "YOtL2Tk1OJvv",
        "outputId": "e4170cd4-76a1-4e6f-ae62-b002881e172e"
      },
      "source": [
        "def euc_sum(a, b):\n",
        "  return np.sqrt(np.sum((a-b)**2))\n",
        "euc_sum(x, y)"
      ],
      "execution_count": 14,
      "outputs": [
        {
          "output_type": "execute_result",
          "data": {
            "text/plain": [
              "7.615773105863909"
            ]
          },
          "metadata": {
            "tags": []
          },
          "execution_count": 14
        }
      ]
    },
    {
      "cell_type": "markdown",
      "metadata": {
        "id": "d8ag2uclOJvv"
      },
      "source": [
        "The euclidean distance is a special form of the <a href=\"https://en.wikipedia.org/wiki/Norm_(mathematics)#p-norm\">p-norm</a>:\n",
        "\n",
        "$pnorm(\\mathbf{u},\\mathbf{v},p) = (\\sum_d^D |u_d - v_d|^p)^{\\frac{1}{p}}$\n",
        "\n",
        "Implement a function **pnorm** with takes as argument two vectors **a**, **b** and a parameter **p**:"
      ]
    },
    {
      "cell_type": "code",
      "metadata": {
        "colab": {
          "base_uri": "https://localhost:8080/"
        },
        "id": "6Y3A9lbtOJvv",
        "outputId": "9de44280-7ce6-4d33-e828-8b487200e8bb"
      },
      "source": [
        "def pnorm(a, b, p):\n",
        "  squared_differences= 0\n",
        "  for i in range(p):\n",
        "    squared_differences += np.abs(a[i]-b[i])**p\n",
        "  return squared_differences**(1/p)\n",
        "\n",
        "pnorm(x, y, 2)\n"
      ],
      "execution_count": 15,
      "outputs": [
        {
          "output_type": "execute_result",
          "data": {
            "text/plain": [
              "7.615773105863909"
            ]
          },
          "metadata": {
            "tags": []
          },
          "execution_count": 15
        }
      ]
    },
    {
      "cell_type": "markdown",
      "metadata": {
        "id": "QXDIE5gTOJvw"
      },
      "source": [
        "The [Mahalanobis distance](https://en.wikipedia.org/wiki/Mahalanobis_distance) of two vectors __u__, __v__ and a covariance matrix __S__ is given by:\n",
        "\n",
        "$\\sqrt{(\\mathbf{u}-\\mathbf{v})^TS^{-1}(\\mathbf{u}-\\mathbf{v})}$\n",
        "\n",
        "with the vektors: **u**$=\\begin{pmatrix}u_{1} \\\\ u_{2} \\\\ ... \\\\ u_{n-1} \\\\ u_{n} \\end{pmatrix}$ and \n",
        "**v**$= \\begin{pmatrix} v_{1} \\\\ v_{2} \\\\ ... \\\\ v_{n-1} \\\\ v_{n} \\end{pmatrix}$\n",
        "\n",
        "A covariance matrix is a symmetric, positive semidefinite matrix. Use the provided matrix S:\n",
        "\n",
        "$S=\\begin{pmatrix}1.2 & -0.7 \\\\ -0.7 & 1.2 \\end{pmatrix}$"
      ]
    },
    {
      "cell_type": "code",
      "metadata": {
        "id": "f2E5kzKPOJvw"
      },
      "source": [
        "S = np.matrix([[1.2, -.7], [-.7, 1.2]])"
      ],
      "execution_count": 16,
      "outputs": []
    },
    {
      "cell_type": "markdown",
      "metadata": {
        "id": "xwO_fMQMOJvw"
      },
      "source": [
        "Implement a function **mahalanobis** which takes as argument two vectors __a__, __b__ and a matrix **S**:\n",
        "\n",
        "__Note:__ __a__ and __b__ are two numpy arrays. "
      ]
    },
    {
      "cell_type": "code",
      "metadata": {
        "colab": {
          "base_uri": "https://localhost:8080/"
        },
        "id": "pn0qagAJOJvw",
        "outputId": "24b8649c-bdc5-43b4-8dfb-c4152ccaeb38"
      },
      "source": [
        "def mahalanobis(a, b, S):\n",
        "  d= a-b\n",
        "  S_inv= np.linalg.inv(S)\n",
        "  return np.sqrt(d.T@S_inv@d)\n",
        "\n",
        "mahalanobis(x,y,S)"
      ],
      "execution_count": 17,
      "outputs": [
        {
          "output_type": "execute_result",
          "data": {
            "text/plain": [
              "matrix([[6.50505876]])"
            ]
          },
          "metadata": {
            "tags": []
          },
          "execution_count": 17
        }
      ]
    },
    {
      "cell_type": "markdown",
      "metadata": {
        "id": "dCLroGfaOJvx"
      },
      "source": [
        "What happens if the covariance matrix **S** is equal to the identity matrix **I**?\n",
        "Confirm your hypothesis by using numpys **np.eye**.\n",
        "\n",
        "**Answer:** When S == I (I=identity Matrix) mahalanobis distance equal euclidean distance"
      ]
    },
    {
      "cell_type": "code",
      "metadata": {
        "colab": {
          "base_uri": "https://localhost:8080/"
        },
        "id": "SIPkachLOJvx",
        "outputId": "ff865987-59b6-4d09-d7ed-c4ecc684cef7"
      },
      "source": [
        "I = np.eye(2)\n",
        "mahalanobis(x, y, I)"
      ],
      "execution_count": 18,
      "outputs": [
        {
          "output_type": "execute_result",
          "data": {
            "text/plain": [
              "7.615773105863909"
            ]
          },
          "metadata": {
            "tags": []
          },
          "execution_count": 18
        }
      ]
    },
    {
      "cell_type": "markdown",
      "metadata": {
        "id": "6JlJxnTHOJvx"
      },
      "source": [
        "### Further tasks\n",
        "\n",
        "Work out the basic functions of the library *numpy* with the help of a freely chosen tutorial (e.g. http://www.python-kurs.eu/numpy.php).\n",
        "\n",
        "Many other commands are also available e.g. on\n",
        "https://docs.scipy.org/doc/numpy-1.13.0/reference/routines.linalg.html."
      ]
    },
    {
      "cell_type": "markdown",
      "metadata": {
        "id": "zGKZ3r3VOJvx"
      },
      "source": [
        "## Exercise 02\n",
        "\n",
        "### PLOT DATA\n",
        "\n",
        "This exercise is about getting to know different plot mechanisms. You will be provided with 2 different data sets. Data set 1 serves to represent temporal data and data set 2 serves to represent spatial data. The additional task deals with the moving average and uses the same data set as in task 1."
      ]
    },
    {
      "cell_type": "markdown",
      "metadata": {
        "id": "P4fYQAgNOJvy"
      },
      "source": [
        "## Task 1: Plot temporal data\n",
        "\n",
        "The task is to graphically display the given data.\n",
        "\n",
        "To do this, follow these steps:\n",
        "\n",
        "1) Read in the time series\n",
        "\n",
        "2) Display the time series as a Line Plot\n",
        "\n",
        "3) Use the timestamp of the time series as x-axis label\n",
        "\n",
        "4) What is a meaningful label for the y-axis?\n",
        "\n",
        "5) Enlarge the area of the graph"
      ]
    },
    {
      "cell_type": "code",
      "metadata": {
        "colab": {
          "base_uri": "https://localhost:8080/",
          "height": 568
        },
        "id": "o6EsWWHGOJvy",
        "outputId": "0d20f0f5-b544-415d-ccaa-5bf3ac65e243"
      },
      "source": [
        "# read time series\n",
        "# replace path with own path\n",
        "data_df = pd.read_csv('/content/drive/MyDrive/Ex 1/data/relative_power_generation.csv', index_col=0)\n",
        "data_df.index = pd.to_datetime(data_df.index)\n",
        "\n",
        "plt.figure(figsize=(14,9))\n",
        "plt.plot(data_df.index, data_df.generation)\n",
        "plt.xlabel('Time')\n",
        "plt.ylabel('Relative Power Generation')\n"
      ],
      "execution_count": 19,
      "outputs": [
        {
          "output_type": "execute_result",
          "data": {
            "text/plain": [
              "Text(0, 0.5, 'Relative Power Generation')"
            ]
          },
          "metadata": {
            "tags": []
          },
          "execution_count": 19
        },
        {
          "output_type": "display_data",
          "data": {
            "image/png": "[encoded data removed]",
            "text/plain": [
              "<Figure size 1008x648 with 1 Axes>"
            ]
          },
          "metadata": {
            "tags": [],
            "needs_background": "light"
          }
        }
      ]
    },
    {
      "cell_type": "code",
      "metadata": {
        "colab": {
          "base_uri": "https://localhost:8080/"
        },
        "id": "6V-OqnHePVVf",
        "outputId": "f6cac71d-b2e2-4593-ec2f-a6d50138e0de"
      },
      "source": [
        "from google.colab import drive\n",
        "drive.mount('/content/drive')"
      ],
      "execution_count": 20,
      "outputs": [
        {
          "output_type": "stream",
          "text": [
            "Drive already mounted at /content/drive; to attempt to forcibly remount, call drive.mount(\"/content/drive\", force_remount=True).\n"
          ],
          "name": "stdout"
        }
      ]
    },
    {
      "cell_type": "markdown",
      "metadata": {
        "id": "c8zUVkRlOJvy"
      },
      "source": [
        "## Task 2: Plot spatial data\n",
        "\n",
        "The next task deals with the representation of data on maps.\n",
        "\n",
        "The following steps have to be solved:\n",
        "\n",
        "1) Read in the spatial data\n",
        "\n",
        "2) Display the points on the map with different sizes depending on their values."
      ]
    },
    {
      "cell_type": "code",
      "metadata": {
        "id": "x9OR6x5jOJvz"
      },
      "source": [
        "# read the data\n",
        "# Columns in data:  NaN, size, lat, lon\n",
        "spatial_data = np.genfromtxt('/content/drive/MyDrive/Ex 1/data/german_cities_with_population.csv', delimiter=',')\n",
        "\n",
        "# values of individual columns\n",
        "\n",
        "### Your Code Here ###"
      ],
      "execution_count": 21,
      "outputs": []
    },
    {
      "cell_type": "code",
      "metadata": {
        "colab": {
          "base_uri": "https://localhost:8080/"
        },
        "id": "PkJLSV7ZOJvz",
        "outputId": "55cca395-1fec-4b82-f947-6ff1083a6fea"
      },
      "source": [
        "mrc = ccrs.Mercator()\n",
        "\n",
        "# just to zoom in to only Germany\n",
        "lons = np.array([5.87, 15.04])\n",
        "lats = np.array([47.26, 55.06])\n",
        "\n",
        "fig = plt.figure(figsize=(30,15))  # predefined figure size, change to your liking. \n",
        "# But doesn't matter if you save to any vector graphics format though (e.g. pdf)\n",
        "\n",
        "# Downloaded from http://biogeo.ucdavis.edu/data/gadm2/shp/DEU_adm.zip\n",
        "fname = '/content/drive/MyDrive/Ex 1/data/DEU_adm1'\n",
        "adm1_shapes = list(shpreader.Reader(fname).geometries())\n",
        "\n",
        "\n",
        "ax = plt.axes(projection = mrc)\n",
        "ax.coastlines(resolution='10m')\n",
        "ax.add_geometries(adm1_shapes, ccrs.PlateCarree(),\n",
        "                  edgecolor='black', facecolor='white', alpha=0.5)\n",
        "\n",
        "ax.set_extent(np.hstack([lons, lats]), ccrs.PlateCarree()) \n",
        "\n",
        "### Your Code Here ###\n",
        "\n",
        "plt.show()"
      ],
      "execution_count": null,
      "outputs": [
        {
          "output_type": "stream",
          "text": [
            "Geometry must be a Point or LineString\n"
          ],
          "name": "stderr"
        }
      ]
    },
    {
      "cell_type": "markdown",
      "metadata": {
        "id": "TgXQQrNbOJvz"
      },
      "source": [
        "## Additional task: moving average\n",
        "\n",
        "Find out briefly what a Moving Average is. You've already explored loops and indexing in the previous exercise. Think about how to write an algorithm that outputs the moving average for a given time series.\n",
        "\n",
        "1) What is a moving average\n",
        "\n",
        "2) Write a function or an algorithm that implements the moving average\n",
        "\n",
        "3) Display the original time series and time series using a moving average filter.\n",
        "\n",
        "4) Is it possible to use other properties besides the mean?"
      ]
    },
    {
      "cell_type": "code",
      "metadata": {
        "id": "wzAJ-NrCOJvz"
      },
      "source": [
        "a=np.genfromtxt('data/relative_power_generation.csv', delimiter=',')\n",
        "plt.figure(num=None, figsize=(8, 6), dpi=100, facecolor='w', edgecolor='k')\n",
        "y=a[1:,1]\n",
        "x=np.linspace(0,len(y),2000)\n",
        "\n"
      ],
      "execution_count": null,
      "outputs": []
    }
  ]
}