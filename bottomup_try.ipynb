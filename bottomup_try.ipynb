{
  "nbformat": 4,
  "nbformat_minor": 0,
  "metadata": {
    "colab": {
      "name": "Untitled15.ipynb",
      "provenance": [],
      "authorship_tag": "ABX9TyNTd3LDkhM/XBm5h84LVGH6",
      "include_colab_link": true
    },
    "kernelspec": {
      "name": "python3",
      "display_name": "Python 3"
    },
    "language_info": {
      "name": "python"
    }
  },
  "cells": [
    {
      "cell_type": "markdown",
      "metadata": {
        "id": "view-in-github",
        "colab_type": "text"
      },
      "source": [
        "<a href=\"https://colab.research.google.com/github/HoschangNoori/my-first-blog/blob/master/bottomup_try.ipynb\" target=\"_parent\"><img src=\"https://colab.research.google.com/assets/colab-badge.svg\" alt=\"Open In Colab\"/></a>"
      ]
    },
    {
      "cell_type": "code",
      "metadata": {
        "id": "G3YsT-4PWb3d"
      },
      "source": [
        "# 1) create initial fine approximation\n",
        "Seg_TS = []\n",
        "for i in range(0, len(x), 2):\n",
        "    Seg_TS.append([i, i+2])\n",
        "\n",
        "# 2) Find cost of merging each pair of segments.\n",
        "merge_cost = []\n",
        "for i in range(0, len(Seg_TS)-1, 1):\n",
        "  sse = sumsquared_error(x, y, [min(Seg_TS[i]), max(Seg_TS[i+1])])\n",
        "  merge_cost.append(sse[0])\n",
        "\n",
        "# 3) Find cheapest pair to merge\n",
        "max_error = 1\n",
        "while min(merge_cost) < max_error:\n",
        "  idx = np.argmin(merge_cost)\n",
        "  Seg_TS[idx] = [min(Seg_TS[idx]), max(Seg_TS[idx+1])]\n",
        "  del(Seg_TS[idx+1])\n",
        "\n",
        "  sse = sumsquared_error(x, y, [min(Seg_TS[idx]), max(Seg_TS[idx+1])])\n",
        "  merge_cost[idx] = sse[0]\n"
      ],
      "execution_count": null,
      "outputs": []
    }
  ]
}